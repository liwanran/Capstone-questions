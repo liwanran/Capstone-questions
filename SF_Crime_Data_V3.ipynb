{
 "cells": [
  {
   "cell_type": "code",
   "execution_count": 1,
   "metadata": {},
   "outputs": [],
   "source": [
    "import pandas as pd\n",
    "import matplotlib.pyplot as plt\n",
    "%matplotlib inline\n",
    "import seaborn as sns\n",
    "import numpy as np"
   ]
  },
  {
   "cell_type": "markdown",
   "metadata": {},
   "source": [
    "## Import cleaned SF crime dataset"
   ]
  },
  {
   "cell_type": "code",
   "execution_count": 14,
   "metadata": {},
   "outputs": [
    {
     "data": {
      "text/html": [
       "<div>\n",
       "<style scoped>\n",
       "    .dataframe tbody tr th:only-of-type {\n",
       "        vertical-align: middle;\n",
       "    }\n",
       "\n",
       "    .dataframe tbody tr th {\n",
       "        vertical-align: top;\n",
       "    }\n",
       "\n",
       "    .dataframe thead th {\n",
       "        text-align: right;\n",
       "    }\n",
       "</style>\n",
       "<table border=\"1\" class=\"dataframe\">\n",
       "  <thead>\n",
       "    <tr style=\"text-align: right;\">\n",
       "      <th></th>\n",
       "      <th>Unnamed: 0</th>\n",
       "      <th>IncidntNum</th>\n",
       "      <th>Category</th>\n",
       "      <th>Descript</th>\n",
       "      <th>DayOfWeek</th>\n",
       "      <th>Date</th>\n",
       "      <th>Time</th>\n",
       "      <th>PdDistrict</th>\n",
       "      <th>Resolution</th>\n",
       "      <th>Address</th>\n",
       "      <th>...</th>\n",
       "      <th>IncidentID</th>\n",
       "      <th>CAD_Num</th>\n",
       "      <th>Report Type Code</th>\n",
       "      <th>Report Type Description</th>\n",
       "      <th>Filed Online</th>\n",
       "      <th>Incident Code</th>\n",
       "      <th>Incident Subcategory</th>\n",
       "      <th>Police District</th>\n",
       "      <th>Analysis Neighborhood</th>\n",
       "      <th>Supervisor District</th>\n",
       "    </tr>\n",
       "  </thead>\n",
       "  <tbody>\n",
       "    <tr>\n",
       "      <th>0</th>\n",
       "      <td>46668</td>\n",
       "      <td>180000417</td>\n",
       "      <td>ASSAULT</td>\n",
       "      <td>BATTERY</td>\n",
       "      <td>Sunday</td>\n",
       "      <td>2017-12-31</td>\n",
       "      <td>23:58</td>\n",
       "      <td>SOUTHERN</td>\n",
       "      <td>NONE</td>\n",
       "      <td>800 Block of BRYANT ST</td>\n",
       "      <td>...</td>\n",
       "      <td>NaN</td>\n",
       "      <td>NaN</td>\n",
       "      <td>NaN</td>\n",
       "      <td>NaN</td>\n",
       "      <td>NaN</td>\n",
       "      <td>NaN</td>\n",
       "      <td>NaN</td>\n",
       "      <td>NaN</td>\n",
       "      <td>NaN</td>\n",
       "      <td>NaN</td>\n",
       "    </tr>\n",
       "    <tr>\n",
       "      <th>1</th>\n",
       "      <td>46669</td>\n",
       "      <td>180000069</td>\n",
       "      <td>ASSAULT</td>\n",
       "      <td>AGGRAVATED ASSAULT WITH A KNIFE</td>\n",
       "      <td>Sunday</td>\n",
       "      <td>2017-12-31</td>\n",
       "      <td>23:56</td>\n",
       "      <td>TENDERLOIN</td>\n",
       "      <td>ARREST, BOOKED</td>\n",
       "      <td>500 Block of JONES ST</td>\n",
       "      <td>...</td>\n",
       "      <td>NaN</td>\n",
       "      <td>NaN</td>\n",
       "      <td>NaN</td>\n",
       "      <td>NaN</td>\n",
       "      <td>NaN</td>\n",
       "      <td>NaN</td>\n",
       "      <td>NaN</td>\n",
       "      <td>NaN</td>\n",
       "      <td>NaN</td>\n",
       "      <td>NaN</td>\n",
       "    </tr>\n",
       "    <tr>\n",
       "      <th>2</th>\n",
       "      <td>46672</td>\n",
       "      <td>186005077</td>\n",
       "      <td>LARCENY/THEFT</td>\n",
       "      <td>PETTY THEFT OF PROPERTY</td>\n",
       "      <td>Sunday</td>\n",
       "      <td>2017-12-31</td>\n",
       "      <td>23:55</td>\n",
       "      <td>MISSION</td>\n",
       "      <td>NONE</td>\n",
       "      <td>500 Block of VALENCIA ST</td>\n",
       "      <td>...</td>\n",
       "      <td>NaN</td>\n",
       "      <td>NaN</td>\n",
       "      <td>NaN</td>\n",
       "      <td>NaN</td>\n",
       "      <td>NaN</td>\n",
       "      <td>NaN</td>\n",
       "      <td>NaN</td>\n",
       "      <td>NaN</td>\n",
       "      <td>NaN</td>\n",
       "      <td>NaN</td>\n",
       "    </tr>\n",
       "    <tr>\n",
       "      <th>3</th>\n",
       "      <td>46673</td>\n",
       "      <td>176001461</td>\n",
       "      <td>LARCENY/THEFT</td>\n",
       "      <td>PETTY THEFT OF PROPERTY</td>\n",
       "      <td>Sunday</td>\n",
       "      <td>2017-12-31</td>\n",
       "      <td>23:50</td>\n",
       "      <td>SOUTHERN</td>\n",
       "      <td>NONE</td>\n",
       "      <td>700 Block of HARRISON ST</td>\n",
       "      <td>...</td>\n",
       "      <td>NaN</td>\n",
       "      <td>NaN</td>\n",
       "      <td>NaN</td>\n",
       "      <td>NaN</td>\n",
       "      <td>NaN</td>\n",
       "      <td>NaN</td>\n",
       "      <td>NaN</td>\n",
       "      <td>NaN</td>\n",
       "      <td>NaN</td>\n",
       "      <td>NaN</td>\n",
       "    </tr>\n",
       "    <tr>\n",
       "      <th>4</th>\n",
       "      <td>46674</td>\n",
       "      <td>180000025</td>\n",
       "      <td>DRUNKENNESS</td>\n",
       "      <td>UNDER INFLUENCE OF ALCOHOL IN A PUBLIC PLACE</td>\n",
       "      <td>Sunday</td>\n",
       "      <td>2017-12-31</td>\n",
       "      <td>23:46</td>\n",
       "      <td>NORTHERN</td>\n",
       "      <td>ARREST, BOOKED</td>\n",
       "      <td>HEMLOCK ST / POLK ST</td>\n",
       "      <td>...</td>\n",
       "      <td>NaN</td>\n",
       "      <td>NaN</td>\n",
       "      <td>NaN</td>\n",
       "      <td>NaN</td>\n",
       "      <td>NaN</td>\n",
       "      <td>NaN</td>\n",
       "      <td>NaN</td>\n",
       "      <td>NaN</td>\n",
       "      <td>NaN</td>\n",
       "      <td>NaN</td>\n",
       "    </tr>\n",
       "  </tbody>\n",
       "</table>\n",
       "<p>5 rows × 31 columns</p>\n",
       "</div>"
      ],
      "text/plain": [
       "   Unnamed: 0  IncidntNum       Category  \\\n",
       "0       46668   180000417        ASSAULT   \n",
       "1       46669   180000069        ASSAULT   \n",
       "2       46672   186005077  LARCENY/THEFT   \n",
       "3       46673   176001461  LARCENY/THEFT   \n",
       "4       46674   180000025    DRUNKENNESS   \n",
       "\n",
       "                                       Descript DayOfWeek        Date   Time  \\\n",
       "0                                       BATTERY    Sunday  2017-12-31  23:58   \n",
       "1               AGGRAVATED ASSAULT WITH A KNIFE    Sunday  2017-12-31  23:56   \n",
       "2                       PETTY THEFT OF PROPERTY    Sunday  2017-12-31  23:55   \n",
       "3                       PETTY THEFT OF PROPERTY    Sunday  2017-12-31  23:50   \n",
       "4  UNDER INFLUENCE OF ALCOHOL IN A PUBLIC PLACE    Sunday  2017-12-31  23:46   \n",
       "\n",
       "   PdDistrict      Resolution                   Address  ...  IncidentID  \\\n",
       "0    SOUTHERN            NONE    800 Block of BRYANT ST  ...         NaN   \n",
       "1  TENDERLOIN  ARREST, BOOKED     500 Block of JONES ST  ...         NaN   \n",
       "2     MISSION            NONE  500 Block of VALENCIA ST  ...         NaN   \n",
       "3    SOUTHERN            NONE  700 Block of HARRISON ST  ...         NaN   \n",
       "4    NORTHERN  ARREST, BOOKED      HEMLOCK ST / POLK ST  ...         NaN   \n",
       "\n",
       "   CAD_Num Report Type Code  Report Type Description  Filed Online  \\\n",
       "0      NaN              NaN                      NaN           NaN   \n",
       "1      NaN              NaN                      NaN           NaN   \n",
       "2      NaN              NaN                      NaN           NaN   \n",
       "3      NaN              NaN                      NaN           NaN   \n",
       "4      NaN              NaN                      NaN           NaN   \n",
       "\n",
       "   Incident Code  Incident Subcategory  Police District  \\\n",
       "0            NaN                   NaN              NaN   \n",
       "1            NaN                   NaN              NaN   \n",
       "2            NaN                   NaN              NaN   \n",
       "3            NaN                   NaN              NaN   \n",
       "4            NaN                   NaN              NaN   \n",
       "\n",
       "   Analysis Neighborhood Supervisor District  \n",
       "0                    NaN                 NaN  \n",
       "1                    NaN                 NaN  \n",
       "2                    NaN                 NaN  \n",
       "3                    NaN                 NaN  \n",
       "4                    NaN                 NaN  \n",
       "\n",
       "[5 rows x 31 columns]"
      ]
     },
     "execution_count": 14,
     "metadata": {},
     "output_type": "execute_result"
    }
   ],
   "source": [
    "p0 = pd.read_csv('p0.csv')\n",
    "p0.head()"
   ]
  },
  {
   "cell_type": "code",
   "execution_count": 15,
   "metadata": {},
   "outputs": [
    {
     "data": {
      "text/plain": [
       "(1822068, 31)"
      ]
     },
     "execution_count": 15,
     "metadata": {},
     "output_type": "execute_result"
    }
   ],
   "source": [
    "p0.shape"
   ]
  },
  {
   "cell_type": "code",
   "execution_count": 59,
   "metadata": {},
   "outputs": [
    {
     "data": {
      "text/plain": [
       "Unnamed: 0                            0\n",
       "IncidntNum                            0\n",
       "Category                              8\n",
       "Descript                              0\n",
       "DayOfWeek                             0\n",
       "Date                                  0\n",
       "Time                                  0\n",
       "PdDistrict                       110714\n",
       "Resolution                            0\n",
       "Address                            6415\n",
       "X                                  6415\n",
       "Y                                  6415\n",
       "Location                           6415\n",
       "PdId                             110713\n",
       "SF Find Neighborhoods             13495\n",
       "Current Police Districts           7489\n",
       "Current Supervisor Districts       6940\n",
       "Analysis Neighborhoods             7276\n",
       "Year                            1711355\n",
       "Report_Datetime                 1711355\n",
       "RowID                           1711355\n",
       "IncidentID                      1711355\n",
       "CAD_Num                         1742753\n",
       "Report Type Code                1711355\n",
       "Report Type Description         1711355\n",
       "Filed Online                    1791375\n",
       "Incident Code                   1711355\n",
       "Incident Subcategory            1711363\n",
       "Police District                 1711355\n",
       "Analysis Neighborhood           1717797\n",
       "Supervisor District             1717770\n",
       "dtype: int64"
      ]
     },
     "execution_count": 59,
     "metadata": {},
     "output_type": "execute_result"
    }
   ],
   "source": [
    "p0.isnull().sum()"
   ]
  },
  {
   "cell_type": "markdown",
   "metadata": {},
   "source": [
    "## To count the frequency of timing, locations & status of the crimes"
   ]
  },
  {
   "cell_type": "code",
   "execution_count": 16,
   "metadata": {},
   "outputs": [
    {
     "data": {
      "text/plain": [
       "Friday       281015\n",
       "Saturday     265328\n",
       "Wednesday    265323\n",
       "Thursday     260295\n",
       "Tuesday      257803\n",
       "Monday       251129\n",
       "Sunday       241175\n",
       "Name: DayOfWeek, dtype: int64"
      ]
     },
     "execution_count": 16,
     "metadata": {},
     "output_type": "execute_result"
    }
   ],
   "source": [
    "p0_dayofweek = p0.DayOfWeek.value_counts()\n",
    "p0_dayofweek"
   ]
  },
  {
   "cell_type": "code",
   "execution_count": 18,
   "metadata": {
    "scrolled": true
   },
   "outputs": [
    {
     "data": {
      "text/plain": [
       "Friday       0.154229\n",
       "Saturday     0.145619\n",
       "Wednesday    0.145616\n",
       "Thursday     0.142857\n",
       "Tuesday      0.141489\n",
       "Monday       0.137826\n",
       "Sunday       0.132363\n",
       "Name: DayOfWeek, dtype: float64"
      ]
     },
     "execution_count": 18,
     "metadata": {},
     "output_type": "execute_result"
    }
   ],
   "source": [
    "p0_dayofweek_pct = p0.DayOfWeek.value_counts(normalize=True)\n",
    "p0_dayofweek_pct"
   ]
  },
  {
   "cell_type": "code",
   "execution_count": 58,
   "metadata": {
    "scrolled": true
   },
   "outputs": [
    {
     "data": {
      "image/png": "[encoded data removed]",
      "text/plain": [
       "<Figure size 432x288 with 1 Axes>"
      ]
     },
     "metadata": {
      "needs_background": "light"
     },
     "output_type": "display_data"
    }
   ],
   "source": [
    "p0_dayofweek_pct.plot('barh').invert_yaxis()"
   ]
  },
  {
   "cell_type": "markdown",
   "metadata": {},
   "source": [
    "### The bar chart shows that the number of crimes each day of the week doesn't vary much. Friday, Saturday and Wednesday are the days with most crimes. Sunday has least crimes."
   ]
  },
  {
   "cell_type": "code",
   "execution_count": 30,
   "metadata": {},
   "outputs": [
    {
     "data": {
      "text/plain": [
       "NONE                    1194921\n",
       "ARREST, BOOKED           274879\n",
       "ARREST, CITED            135465\n",
       "Open or Active            92878\n",
       "PSYCHOPATHIC CASE         26749\n",
       "LOCATED                   24197\n",
       "UNFOUNDED                 17836\n",
       "Cite or Arrest Adult      16608\n",
       "JUVENILE BOOKED            6864\n",
       "NOT PROSECUTED             6534\n",
       "Name: Resolution, dtype: int64"
      ]
     },
     "execution_count": 30,
     "metadata": {},
     "output_type": "execute_result"
    }
   ],
   "source": [
    "p0_resolution = p0.Resolution.value_counts().head(10)\n",
    "p0_resolution"
   ]
  },
  {
   "cell_type": "code",
   "execution_count": 34,
   "metadata": {},
   "outputs": [
    {
     "data": {
      "text/plain": [
       "NONE                    0.655805\n",
       "ARREST, BOOKED          0.150861\n",
       "ARREST, CITED           0.074347\n",
       "Open or Active          0.050974\n",
       "PSYCHOPATHIC CASE       0.014681\n",
       "LOCATED                 0.013280\n",
       "UNFOUNDED               0.009789\n",
       "Cite or Arrest Adult    0.009115\n",
       "JUVENILE BOOKED         0.003767\n",
       "NOT PROSECUTED          0.003586\n",
       "Name: Resolution, dtype: float64"
      ]
     },
     "execution_count": 34,
     "metadata": {},
     "output_type": "execute_result"
    }
   ],
   "source": [
    "p0_resolution_pct = p0.Resolution.value_counts(normalize=True).head(10)\n",
    "p0_resolution_pct"
   ]
  },
  {
   "cell_type": "code",
   "execution_count": 39,
   "metadata": {},
   "outputs": [
    {
     "data": {
      "image/png": "[encoded data removed]",
      "text/plain": [
       "<Figure size 432x288 with 1 Axes>"
      ]
     },
     "metadata": {
      "needs_background": "light"
     },
     "output_type": "display_data"
    }
   ],
   "source": [
    "p0_resolution_pct.plot('barh').invert_yaxis()"
   ]
  },
  {
   "cell_type": "markdown",
   "metadata": {},
   "source": [
    "## The above chart showed that the resolution of over 65% of crimes were unknown. For those that actions had been taken, most of cases show that arrests were booked or cited."
   ]
  },
  {
   "cell_type": "code",
   "execution_count": 46,
   "metadata": {},
   "outputs": [],
   "source": [
    "p0['Date'] = pd.to_datetime(p0.Date)"
   ]
  },
  {
   "cell_type": "code",
   "execution_count": 51,
   "metadata": {},
   "outputs": [
    {
     "data": {
      "text/plain": [
       "10    159978\n",
       "8     158083\n",
       "3     155102\n",
       "1     154863\n",
       "7     154638\n",
       "5     154412\n",
       "9     154169\n",
       "4     150370\n",
       "6     148033\n",
       "11    146973\n",
       "12    144942\n",
       "2     140505\n",
       "Name: Date, dtype: int64"
      ]
     },
     "execution_count": 51,
     "metadata": {},
     "output_type": "execute_result"
    }
   ],
   "source": [
    "p0_month = p0.Date.dt.month.value_counts()\n",
    "p0_month"
   ]
  },
  {
   "cell_type": "code",
   "execution_count": 53,
   "metadata": {},
   "outputs": [
    {
     "data": {
      "text/plain": [
       "10    0.087800\n",
       "8     0.086760\n",
       "3     0.085124\n",
       "1     0.084993\n",
       "7     0.084869\n",
       "5     0.084745\n",
       "9     0.084612\n",
       "4     0.082527\n",
       "6     0.081244\n",
       "11    0.080663\n",
       "12    0.079548\n",
       "2     0.077113\n",
       "Name: Date, dtype: float64"
      ]
     },
     "execution_count": 53,
     "metadata": {},
     "output_type": "execute_result"
    }
   ],
   "source": [
    "p0_month_pct = p0.Date.dt.month.value_counts(normalize=True)\n",
    "p0_month_pct"
   ]
  },
  {
   "cell_type": "code",
   "execution_count": 55,
   "metadata": {},
   "outputs": [
    {
     "data": {
      "text/plain": [
       "<matplotlib.axes._subplots.AxesSubplot at 0x1a53e236a0>"
      ]
     },
     "execution_count": 55,
     "metadata": {},
     "output_type": "execute_result"
    },
    {
     "data": {
      "image/png": "[encoded data removed]",
      "text/plain": [
       "<Figure size 432x288 with 1 Axes>"
      ]
     },
     "metadata": {
      "needs_background": "light"
     },
     "output_type": "display_data"
    }
   ],
   "source": [
    "p0.Date.dt.month.value_counts().sort_index().plot('barh')"
   ]
  },
  {
   "cell_type": "markdown",
   "metadata": {},
   "source": [
    "## <span style='color:red'> Question1: Since each month has different number of days, how do I calculate the daily average for each month?"
   ]
  },
  {
   "cell_type": "markdown",
   "metadata": {},
   "source": [
    "## The bar chart shows that October and August have most crimes. December and November have least crimes. Feb seems to have least crimes, but it only has 28-29 days. After we averages it out, it ranks 4th place in the list."
   ]
  },
  {
   "cell_type": "code",
   "execution_count": 61,
   "metadata": {},
   "outputs": [
    {
     "data": {
      "text/plain": [
       "(37.775420706711, -122.403404791479)      47547\n",
       "(37.7564864109309, -122.406539115148)      7005\n",
       "(37.775420706711, -122.40340479147905)     6780\n",
       "(37.7841893501425, -122.407633520742)      5255\n",
       "(37.7642205603745, -122.41965834371)       5039\n",
       "(37.7650501214668, -122.419671780296)      4894\n",
       "(37.7725405391593, -122.466204667893)      3872\n",
       "(37.7850629421661, -122.406520987144)      3856\n",
       "(37.7285280627465, -122.475647460786)      3367\n",
       "(37.7256933575703, -122.452289660492)      3138\n",
       "Name: Location, dtype: int64"
      ]
     },
     "execution_count": 61,
     "metadata": {},
     "output_type": "execute_result"
    }
   ],
   "source": [
    "p0_location = p0.Location.value_counts().head(10)\n",
    "p0_location"
   ]
  },
  {
   "cell_type": "code",
   "execution_count": 62,
   "metadata": {},
   "outputs": [
    {
     "data": {
      "text/plain": [
       "(37.775420706711, -122.403404791479)      0.026187\n",
       "(37.7564864109309, -122.406539115148)     0.003858\n",
       "(37.775420706711, -122.40340479147905)    0.003734\n",
       "(37.7841893501425, -122.407633520742)     0.002894\n",
       "(37.7642205603745, -122.41965834371)      0.002775\n",
       "(37.7650501214668, -122.419671780296)     0.002695\n",
       "(37.7725405391593, -122.466204667893)     0.002133\n",
       "(37.7850629421661, -122.406520987144)     0.002124\n",
       "(37.7285280627465, -122.475647460786)     0.001854\n",
       "(37.7256933575703, -122.452289660492)     0.001728\n",
       "Name: Location, dtype: float64"
      ]
     },
     "execution_count": 62,
     "metadata": {},
     "output_type": "execute_result"
    }
   ],
   "source": [
    "p0_location_pct = p0.Location.value_counts(normalize=True).head(10)\n",
    "p0_location_pct"
   ]
  },
  {
   "cell_type": "markdown",
   "metadata": {},
   "source": [
    "## <span style='color:red'>Question 2: How do I map the \"Location\" to \"Address\" in words in the table, instead of showing them in latitude and longitude?"
   ]
  },
  {
   "cell_type": "markdown",
   "metadata": {},
   "source": [
    "## Weather Datasets: We found daily temperature in CA from 2014 to 2018. We will use the average temperature column 'TAVG' for analysis. Dateset source: https://www.ncdc.noaa.gov/cdo-web/search"
   ]
  },
  {
   "cell_type": "code",
   "execution_count": 63,
   "metadata": {},
   "outputs": [
    {
     "data": {
      "text/html": [
       "<div>\n",
       "<style scoped>\n",
       "    .dataframe tbody tr th:only-of-type {\n",
       "        vertical-align: middle;\n",
       "    }\n",
       "\n",
       "    .dataframe tbody tr th {\n",
       "        vertical-align: top;\n",
       "    }\n",
       "\n",
       "    .dataframe thead th {\n",
       "        text-align: right;\n",
       "    }\n",
       "</style>\n",
       "<table border=\"1\" class=\"dataframe\">\n",
       "  <thead>\n",
       "    <tr style=\"text-align: right;\">\n",
       "      <th></th>\n",
       "      <th>STATION</th>\n",
       "      <th>NAME</th>\n",
       "      <th>DATE</th>\n",
       "      <th>TAVG</th>\n",
       "      <th>TMAX</th>\n",
       "      <th>TMIN</th>\n",
       "      <th>TOBS</th>\n",
       "      <th>WT01</th>\n",
       "      <th>WT02</th>\n",
       "      <th>WT03</th>\n",
       "      <th>WT05</th>\n",
       "      <th>WT08</th>\n",
       "      <th>WT09</th>\n",
       "      <th>WT11</th>\n",
       "    </tr>\n",
       "  </thead>\n",
       "  <tbody>\n",
       "    <tr>\n",
       "      <th>0</th>\n",
       "      <td>US1CAAL0039</td>\n",
       "      <td>BERKELEY 0.9 SSE, CA US</td>\n",
       "      <td>2017-07-01</td>\n",
       "      <td>NaN</td>\n",
       "      <td>NaN</td>\n",
       "      <td>NaN</td>\n",
       "      <td>NaN</td>\n",
       "      <td>NaN</td>\n",
       "      <td>NaN</td>\n",
       "      <td>NaN</td>\n",
       "      <td>NaN</td>\n",
       "      <td>NaN</td>\n",
       "      <td>NaN</td>\n",
       "      <td>NaN</td>\n",
       "    </tr>\n",
       "    <tr>\n",
       "      <th>1</th>\n",
       "      <td>US1CAAL0039</td>\n",
       "      <td>BERKELEY 0.9 SSE, CA US</td>\n",
       "      <td>2017-07-02</td>\n",
       "      <td>NaN</td>\n",
       "      <td>NaN</td>\n",
       "      <td>NaN</td>\n",
       "      <td>NaN</td>\n",
       "      <td>NaN</td>\n",
       "      <td>NaN</td>\n",
       "      <td>NaN</td>\n",
       "      <td>NaN</td>\n",
       "      <td>NaN</td>\n",
       "      <td>NaN</td>\n",
       "      <td>NaN</td>\n",
       "    </tr>\n",
       "    <tr>\n",
       "      <th>2</th>\n",
       "      <td>US1CAAL0039</td>\n",
       "      <td>BERKELEY 0.9 SSE, CA US</td>\n",
       "      <td>2017-07-03</td>\n",
       "      <td>NaN</td>\n",
       "      <td>NaN</td>\n",
       "      <td>NaN</td>\n",
       "      <td>NaN</td>\n",
       "      <td>NaN</td>\n",
       "      <td>NaN</td>\n",
       "      <td>NaN</td>\n",
       "      <td>NaN</td>\n",
       "      <td>NaN</td>\n",
       "      <td>NaN</td>\n",
       "      <td>NaN</td>\n",
       "    </tr>\n",
       "    <tr>\n",
       "      <th>3</th>\n",
       "      <td>US1CAAL0039</td>\n",
       "      <td>BERKELEY 0.9 SSE, CA US</td>\n",
       "      <td>2017-07-04</td>\n",
       "      <td>NaN</td>\n",
       "      <td>NaN</td>\n",
       "      <td>NaN</td>\n",
       "      <td>NaN</td>\n",
       "      <td>NaN</td>\n",
       "      <td>NaN</td>\n",
       "      <td>NaN</td>\n",
       "      <td>NaN</td>\n",
       "      <td>NaN</td>\n",
       "      <td>NaN</td>\n",
       "      <td>NaN</td>\n",
       "    </tr>\n",
       "    <tr>\n",
       "      <th>4</th>\n",
       "      <td>US1CAAL0039</td>\n",
       "      <td>BERKELEY 0.9 SSE, CA US</td>\n",
       "      <td>2017-07-06</td>\n",
       "      <td>NaN</td>\n",
       "      <td>NaN</td>\n",
       "      <td>NaN</td>\n",
       "      <td>NaN</td>\n",
       "      <td>NaN</td>\n",
       "      <td>NaN</td>\n",
       "      <td>NaN</td>\n",
       "      <td>NaN</td>\n",
       "      <td>NaN</td>\n",
       "      <td>NaN</td>\n",
       "      <td>NaN</td>\n",
       "    </tr>\n",
       "  </tbody>\n",
       "</table>\n",
       "</div>"
      ],
      "text/plain": [
       "       STATION                     NAME        DATE  TAVG  TMAX  TMIN  TOBS  \\\n",
       "0  US1CAAL0039  BERKELEY 0.9 SSE, CA US  2017-07-01   NaN   NaN   NaN   NaN   \n",
       "1  US1CAAL0039  BERKELEY 0.9 SSE, CA US  2017-07-02   NaN   NaN   NaN   NaN   \n",
       "2  US1CAAL0039  BERKELEY 0.9 SSE, CA US  2017-07-03   NaN   NaN   NaN   NaN   \n",
       "3  US1CAAL0039  BERKELEY 0.9 SSE, CA US  2017-07-04   NaN   NaN   NaN   NaN   \n",
       "4  US1CAAL0039  BERKELEY 0.9 SSE, CA US  2017-07-06   NaN   NaN   NaN   NaN   \n",
       "\n",
       "   WT01  WT02  WT03  WT05  WT08  WT09  WT11  \n",
       "0   NaN   NaN   NaN   NaN   NaN   NaN   NaN  \n",
       "1   NaN   NaN   NaN   NaN   NaN   NaN   NaN  \n",
       "2   NaN   NaN   NaN   NaN   NaN   NaN   NaN  \n",
       "3   NaN   NaN   NaN   NaN   NaN   NaN   NaN  \n",
       "4   NaN   NaN   NaN   NaN   NaN   NaN   NaN  "
      ]
     },
     "execution_count": 63,
     "metadata": {},
     "output_type": "execute_result"
    }
   ],
   "source": [
    "temp1 = pd.read_csv('Temprature2014_2018.csv')\n",
    "temp1.head()"
   ]
  },
  {
   "cell_type": "code",
   "execution_count": 64,
   "metadata": {},
   "outputs": [
    {
     "data": {
      "text/plain": [
       "array(['BERKELEY 0.9 SSE, CA US', 'SPRING VALLEY CALIFORNIA, CA US',\n",
       "       'PALO ALTO 1.2 NE, CA US', 'AMERICAN CANYON 3.5 NE, CA US',\n",
       "       'HALF MOON BAY, CA US', 'NEWARK, CA US', 'MUIR WOODS, CA US',\n",
       "       'AMERICAN CANYON 0.3 S, CA US', 'BLACK DIAMOND CALIFORNIA, CA US',\n",
       "       'WOODSIDE FIRE STATION 1, CA US', 'EAST PALO ALTO 0.3 WSW, CA US',\n",
       "       'SAN MATEO 0.8 NE, CA US', 'PACIFICA 1.9 S, CA US',\n",
       "       'LAFAYETTE 0.7 E, CA US', 'SAN FRANCISCO OCEANSIDE, CA US',\n",
       "       'WALNUT CREEK 1.7 SSE, CA US', 'MARTINEZ 0.8 SSE, CA US',\n",
       "       'SAN RAFAEL CIVIC CEN, CA US', 'BERKELEY, CA US',\n",
       "       'BRIONES CALIFORNIA, CA US', 'SAN FRANCISCO DOWNTOWN, CA US',\n",
       "       'MARTINEZ 2.2 SW, CA US', 'BARNABY CALIFORNIA, CA US',\n",
       "       'LAFAYETTE 1.9 WSW, CA US', 'OAKLAND NORTH CALIFORNIA, CA US',\n",
       "       'WOODSIDE 3.4 S, CA US', 'OAKLAND SOUTH CALIFORNIA, CA US',\n",
       "       'REDWOOD CITY 3.3 SSW, CA US', 'WALNUT CREEK 1.4 NE, CA US',\n",
       "       'WALNUT CREEK 1.4 SSE, CA US', 'SAN RAFAEL 3.7 WNW, CA US',\n",
       "       'CONCORD 0.8 WNW, CA US', 'ALAMO 1.0 WSW, CA US',\n",
       "       'MOUNT DIABLO JUNCTION, CA US', 'SAN RAFAEL 2.5 W, CA US',\n",
       "       'FAIRFAX 0.7 N, CA US', 'RICHMOND, CA US',\n",
       "       'MILL VALLEY 2.1 S, CA US', 'CASTRO VALLEY 0.4 NNE, CA US',\n",
       "       'PLEASANTON 1.8 SSE, CA US', 'PIEDMONT 1.0 SE, CA US',\n",
       "       'CONCORD WASTEWATER PLANT, CA US', 'BURLINGAME 2.0 WSW, CA US',\n",
       "       'HALF MOON BAY 0.7 NW, CA US', 'SAN MATEO 1.2 SW, CA US',\n",
       "       'BELMONT 0.7 WSW, CA US', 'SAN MATEO 3.4 SSW, CA US',\n",
       "       'BIG ROCK CALIFORNIA, CA US', 'EL CERRITO 1.3 NW, CA US',\n",
       "       'MILL VALLEY 2.5 SSE, CA US', 'EL GRANADA 0.7 W, CA US',\n",
       "       'PLEASANT HILL 1.1 ENE, CA US', 'NOVATO 2.7 WNW, CA US',\n",
       "       'HALF MOON BAY 1.0 S, CA US', 'BENICIA 1.3 SW, CA US',\n",
       "       'MORAGA 2.4 NNW, CA US', 'VALLEJO 5.8 NE, CA US',\n",
       "       'SAN RAFAEL 1.9 NNW, CA US',\n",
       "       'LAGUNITAS FOREST KNOLLS 0.2 SS, CA US', 'BOLINAS 0.2 W, CA US',\n",
       "       'NAPA CO AIRPORT, CA US', 'NOVATO 0.7 WNW, CA US',\n",
       "       'OAKLAND MUSEUM, CA US', 'PULGAS CALIFORNIA, CA US',\n",
       "       'HAYWARD AIR TERMINAL, CA US',\n",
       "       'LAGUNITAS FOREST KNOLLS 0.4 S, CA US',\n",
       "       'UPPER SAN LEANDRO FILTERS, CA US', 'OAKLAND 1.0 NE, CA US',\n",
       "       'CONCORD BUCHANAN FIELD, CA US', 'OAKLAND 7.8 SE, CA US',\n",
       "       'SAN LORENZO 0.5 NNW, CA US', 'PLEASANTON 0.4 ESE, CA US',\n",
       "       'SAN RAMON 1.7 SSE, CA US', 'PACIFICA 0.3 W, CA US',\n",
       "       'WALNUT CREEK 2.3 WSW, CA US', 'MENLO PARK 2.4 W, CA US',\n",
       "       'FOSTER CITY 1.3 SW, CA US', 'BENICIA 1.0 N, CA US',\n",
       "       'SAN RAFAEL 4.6 NNW, CA US', 'PORTOLA VALLEY 1.3 ENE, CA US',\n",
       "       'BENICIA 1.3 W, CA US', 'MILL VALLEY 0.2 SE, CA US',\n",
       "       'HALF MOON BAY 0.5 SSW, CA US', 'BENICIA 0.2 SSW, CA US',\n",
       "       'NOVATO 1.2 SW, CA US', 'REDWOOD CITY 2.5 SW, CA US',\n",
       "       'BENICIA 1.2 SW, CA US', 'CONCORD 2.1 SE, CA US', 'VALLEJO, CA US',\n",
       "       'SAN FRANCISCO 3.0 W, CA US', 'RICHMOND 3.6 SE, CA US',\n",
       "       'LARKSPUR 0.3 WSW, CA US', 'SAN FRANCISCO 1.1 SW, CA US',\n",
       "       'SAN FRANCISCO 2.8 WNW, CA US', 'OAKLAND 4.4 NNW, CA US',\n",
       "       'SAN ANSELMO 2.0 NNW, CA US', 'MARTINEZ WATER PLANT, CA US',\n",
       "       'FREMONT 2.6 ESE, CA US', 'SAN RAFAEL 4.6 NW, CA US',\n",
       "       'FREMONT 3.7 NE, CA US', 'ALBANY 1.7 E, CA US',\n",
       "       'BERKELEY 0.9 NE, CA US', 'FREMONT 1.9 SE, CA US',\n",
       "       'CONCORD 0.4 E, CA US', 'EL CERRITO 0.3 WNW, CA US',\n",
       "       'FAIRFAX 0.6 SSE, CA US', 'SAUSALITO 0.3 WNW, CA US',\n",
       "       'LUCAS VALLEY 0.7 SSW, CA US', 'OAKLAND 5.0 NNE, CA US',\n",
       "       'BERKELEY 4.0 E, CA US', 'MILL VALLEY 1.5 S, CA US',\n",
       "       'SAN RAFAEL 3.9 NW, CA US', 'FREMONT, CA US',\n",
       "       'PLEASANTON 2.3 NNE, CA US', 'OAKLAND METROPOLITAN, CA US',\n",
       "       'FREMONT 3.3 NNE, CA US', 'NEWARK 1.2 ENE, CA US',\n",
       "       'CASTRO VALLEY 2.0 SW, CA US', 'OAKLAND 1.2 ENE, CA US',\n",
       "       'SAN FRANCISCO INTERNATIONAL AIRPORT, CA US',\n",
       "       'WOODACRE CALIFORNIA, CA US', 'IGNACIO 0.6 SW, CA US',\n",
       "       'KENTFIELD, CA US', 'SAN ANSELMO 0.4 NE, CA US',\n",
       "       'REDWOOD CITY, CA US', 'NOVATO 4.8 WNW, CA US', 'PALO ALTO, CA US',\n",
       "       'NOVATO 1.4 WNW, CA US', 'LAS TRAMPAS CALIFORNIA, CA US',\n",
       "       'SAN ANSELMO 1.2 NNW, CA US', 'WOODACRE 0.6 SW, CA US'],\n",
       "      dtype=object)"
      ]
     },
     "execution_count": 64,
     "metadata": {},
     "output_type": "execute_result"
    }
   ],
   "source": [
    "#By listing all the weather stations in CA, we'll identify the one that's closest to SF city.\n",
    "temp1['NAME'].unique()"
   ]
  },
  {
   "cell_type": "code",
   "execution_count": 65,
   "metadata": {},
   "outputs": [
    {
     "data": {
      "text/html": [
       "<div>\n",
       "<style scoped>\n",
       "    .dataframe tbody tr th:only-of-type {\n",
       "        vertical-align: middle;\n",
       "    }\n",
       "\n",
       "    .dataframe tbody tr th {\n",
       "        vertical-align: top;\n",
       "    }\n",
       "\n",
       "    .dataframe thead th {\n",
       "        text-align: right;\n",
       "    }\n",
       "</style>\n",
       "<table border=\"1\" class=\"dataframe\">\n",
       "  <thead>\n",
       "    <tr style=\"text-align: right;\">\n",
       "      <th></th>\n",
       "      <th>NAME</th>\n",
       "      <th>DATE</th>\n",
       "      <th>TAVG</th>\n",
       "    </tr>\n",
       "  </thead>\n",
       "  <tbody>\n",
       "    <tr>\n",
       "      <th>0</th>\n",
       "      <td>BERKELEY 0.9 SSE, CA US</td>\n",
       "      <td>2017-07-01</td>\n",
       "      <td>NaN</td>\n",
       "    </tr>\n",
       "    <tr>\n",
       "      <th>1</th>\n",
       "      <td>BERKELEY 0.9 SSE, CA US</td>\n",
       "      <td>2017-07-02</td>\n",
       "      <td>NaN</td>\n",
       "    </tr>\n",
       "    <tr>\n",
       "      <th>2</th>\n",
       "      <td>BERKELEY 0.9 SSE, CA US</td>\n",
       "      <td>2017-07-03</td>\n",
       "      <td>NaN</td>\n",
       "    </tr>\n",
       "    <tr>\n",
       "      <th>3</th>\n",
       "      <td>BERKELEY 0.9 SSE, CA US</td>\n",
       "      <td>2017-07-04</td>\n",
       "      <td>NaN</td>\n",
       "    </tr>\n",
       "    <tr>\n",
       "      <th>4</th>\n",
       "      <td>BERKELEY 0.9 SSE, CA US</td>\n",
       "      <td>2017-07-06</td>\n",
       "      <td>NaN</td>\n",
       "    </tr>\n",
       "  </tbody>\n",
       "</table>\n",
       "</div>"
      ],
      "text/plain": [
       "                      NAME        DATE  TAVG\n",
       "0  BERKELEY 0.9 SSE, CA US  2017-07-01   NaN\n",
       "1  BERKELEY 0.9 SSE, CA US  2017-07-02   NaN\n",
       "2  BERKELEY 0.9 SSE, CA US  2017-07-03   NaN\n",
       "3  BERKELEY 0.9 SSE, CA US  2017-07-04   NaN\n",
       "4  BERKELEY 0.9 SSE, CA US  2017-07-06   NaN"
      ]
     },
     "execution_count": 65,
     "metadata": {},
     "output_type": "execute_result"
    }
   ],
   "source": [
    "## We selected the area of 'SAN FRANCISCO INTERNATIONAL AIRPORT, CA US' for analysis\n",
    "df_temp1 = temp1.loc[[i for i in range(len(temp1))],['NAME', 'DATE','TAVG']]\n",
    "df_temp1.head()"
   ]
  },
  {
   "cell_type": "code",
   "execution_count": 69,
   "metadata": {},
   "outputs": [
    {
     "data": {
      "text/html": [
       "<div>\n",
       "<style scoped>\n",
       "    .dataframe tbody tr th:only-of-type {\n",
       "        vertical-align: middle;\n",
       "    }\n",
       "\n",
       "    .dataframe tbody tr th {\n",
       "        vertical-align: top;\n",
       "    }\n",
       "\n",
       "    .dataframe thead th {\n",
       "        text-align: right;\n",
       "    }\n",
       "</style>\n",
       "<table border=\"1\" class=\"dataframe\">\n",
       "  <thead>\n",
       "    <tr style=\"text-align: right;\">\n",
       "      <th></th>\n",
       "      <th>NAME</th>\n",
       "      <th>DATE</th>\n",
       "      <th>TAVG</th>\n",
       "    </tr>\n",
       "  </thead>\n",
       "  <tbody>\n",
       "    <tr>\n",
       "      <th>125654</th>\n",
       "      <td>SAN FRANCISCO INTERNATIONAL AIRPORT, CA US</td>\n",
       "      <td>2014-01-01</td>\n",
       "      <td>49.0</td>\n",
       "    </tr>\n",
       "    <tr>\n",
       "      <th>125655</th>\n",
       "      <td>SAN FRANCISCO INTERNATIONAL AIRPORT, CA US</td>\n",
       "      <td>2014-01-02</td>\n",
       "      <td>51.0</td>\n",
       "    </tr>\n",
       "    <tr>\n",
       "      <th>125656</th>\n",
       "      <td>SAN FRANCISCO INTERNATIONAL AIRPORT, CA US</td>\n",
       "      <td>2014-01-03</td>\n",
       "      <td>52.0</td>\n",
       "    </tr>\n",
       "    <tr>\n",
       "      <th>125657</th>\n",
       "      <td>SAN FRANCISCO INTERNATIONAL AIRPORT, CA US</td>\n",
       "      <td>2014-01-04</td>\n",
       "      <td>53.0</td>\n",
       "    </tr>\n",
       "    <tr>\n",
       "      <th>125658</th>\n",
       "      <td>SAN FRANCISCO INTERNATIONAL AIRPORT, CA US</td>\n",
       "      <td>2014-01-05</td>\n",
       "      <td>55.0</td>\n",
       "    </tr>\n",
       "  </tbody>\n",
       "</table>\n",
       "</div>"
      ],
      "text/plain": [
       "                                              NAME        DATE  TAVG\n",
       "125654  SAN FRANCISCO INTERNATIONAL AIRPORT, CA US  2014-01-01  49.0\n",
       "125655  SAN FRANCISCO INTERNATIONAL AIRPORT, CA US  2014-01-02  51.0\n",
       "125656  SAN FRANCISCO INTERNATIONAL AIRPORT, CA US  2014-01-03  52.0\n",
       "125657  SAN FRANCISCO INTERNATIONAL AIRPORT, CA US  2014-01-04  53.0\n",
       "125658  SAN FRANCISCO INTERNATIONAL AIRPORT, CA US  2014-01-05  55.0"
      ]
     },
     "execution_count": 69,
     "metadata": {},
     "output_type": "execute_result"
    }
   ],
   "source": [
    "# To create a dataframe for temperatures in SF city of 5 years from 2014 to 2018\n",
    "sf_temp = df_temp1[df_temp1['NAME']=='SAN FRANCISCO INTERNATIONAL AIRPORT, CA US']\n",
    "sf_temp.head()"
   ]
  },
  {
   "cell_type": "markdown",
   "metadata": {},
   "source": [
    "## <span style='color:red'> Question 3: How do I show this graph together with the number of crimes on each day, to find out if there's correlation between temperature and number of crimes?"
   ]
  },
  {
   "cell_type": "code",
   "execution_count": null,
   "metadata": {},
   "outputs": [],
   "source": []
  }
 ],
 "metadata": {
  "kernelspec": {
   "display_name": "Python 3",
   "language": "python",
   "name": "python3"
  },
  "language_info": {
   "codemirror_mode": {
    "name": "ipython",
    "version": 3
   },
   "file_extension": ".py",
   "mimetype": "text/x-python",
   "name": "python",
   "nbconvert_exporter": "python",
   "pygments_lexer": "ipython3",
   "version": "3.7.3"
  }
 },
 "nbformat": 4,
 "nbformat_minor": 2
}
